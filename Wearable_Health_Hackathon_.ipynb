{
  "nbformat": 4,
  "nbformat_minor": 0,
  "metadata": {
    "colab": {
      "provenance": [],
      "authorship_tag": "ABX9TyNP5BP0HWhYLQ0IDUgYDSPd",
      "include_colab_link": true
    },
    "kernelspec": {
      "name": "python3",
      "display_name": "Python 3"
    },
    "language_info": {
      "name": "python"
    }
  },
  "cells": [
    {
      "cell_type": "markdown",
      "metadata": {
        "id": "view-in-github",
        "colab_type": "text"
      },
      "source": [
        "<a href=\"https://colab.research.google.com/github/PratyushaChatterjee/DL-and-NN-Project/blob/main/Wearable_Health_Hackathon_.ipynb\" target=\"_parent\"><img src=\"https://colab.research.google.com/assets/colab-badge.svg\" alt=\"Open In Colab\"/></a>"
      ]
    },
    {
      "cell_type": "code",
      "execution_count": null,
      "metadata": {
        "colab": {
          "base_uri": "https://localhost:8080/"
        },
        "id": "RFlEK36BwEio",
        "outputId": "ea53ee78-f5dd-4677-efc4-84c7d406fc9a"
      },
      "outputs": [
        {
          "output_type": "stream",
          "name": "stdout",
          "text": [
            "Mounted at /content/drive\n"
          ]
        }
      ],
      "source": [
        "import io\n",
        "from google.colab import drive\n",
        "drive.mount(\"/content/drive\")\n"
      ]
    },
    {
      "cell_type": "code",
      "source": [
        "import os\n",
        "import pandas as pd\n",
        "base_folders = [\n",
        "    \"/content/drive/MyDrive/medcd_notes\",\n",
        "    \"/content/drive/MyDrive/medcd_annotations\",\n",
        "    \"/content/drive/MyDrive/CVD_FinalData.csv\",\n",
        "    \"/content/drive/MyDrive/15 Selected Subjects A\",\n",
        "    \"/content/drive/MyDrive/15 Selected Subjects B\",\n",
        "    \"/content/drive/MyDrive/15 Selected Subjects C\",\n",
        "    \"/content/drive/MyDrive/15 Selected Subjects D\"\n",
        "]\n"
      ],
      "metadata": {
        "id": "GrjmpgiEyUPR"
      },
      "execution_count": null,
      "outputs": []
    },
    {
      "cell_type": "code",
      "source": [
        "# Folders containing multiple Excel/CSV files\n",
        "folder_paths = [\n",
        "    \"/content/drive/MyDrive/medcd_notes\",\n",
        "    \"/content/drive/MyDrive/medcd_annotations\",\n",
        "    \"/content/drive/MyDrive/15 Selected Subjects A\",\n",
        "    \"/content/drive/MyDrive/15 Selected Subjects B\",\n",
        "    \"/content/drive/MyDrive/15 Selected Subjects C\",\n",
        "    \"/content/drive/MyDrive/15 Selected Subjects D\"\n",
        "]\n",
        "\n",
        "# Single file (CSV)\n",
        "single_file_paths = [\n",
        "    \"/content/drive/MyDrive/CVD_FinalData.csv\"\n",
        "]\n",
        "\n",
        "# Dictionary to hold all dataframes\n",
        "all_dataframes = {}\n",
        "\n",
        "# Read files from folders\n",
        "for folder in folder_paths:\n",
        "    for file in os.listdir(folder):\n",
        "        file_path = os.path.join(folder, file)\n",
        "        try:\n",
        "            if file.endswith(('.xlsx', '.xls')):\n",
        "                df = pd.read_excel(file_path)\n",
        "            elif file.endswith('.csv'):\n",
        "                df = pd.read_csv(file_path)\n",
        "            else:\n",
        "                continue\n",
        "            all_dataframes[file] = df\n",
        "            print(f\"✅ Loaded: {file}\")\n",
        "        except Exception as e:\n",
        "            print(f\"❌ Error loading {file}: {e}\")\n",
        "\n",
        "# Read single files (like CVD_FinalData.csv)\n",
        "for file_path in single_file_paths:\n",
        "    try:\n",
        "        file_name = os.path.basename(file_path)\n",
        "        df = pd.read_csv(file_path)\n",
        "        all_dataframes[file_name] = df\n",
        "        print(f\"✅ Loaded single file: {file_name}\")\n",
        "    except Exception as e:\n",
        "        print(f\"❌ Error loading {file_path}: {e}\")\n"
      ],
      "metadata": {
        "colab": {
          "base_uri": "https://localhost:8080/"
        },
        "id": "Ja5s9rzMyj_B",
        "outputId": "8b9bee2c-3ce8-4cc0-b1a5-fdaaeb6d8bb0"
      },
      "execution_count": null,
      "outputs": [
        {
          "output_type": "stream",
          "name": "stdout",
          "text": [
            "✅ Loaded: medcd_imaging_exams.csv\n",
            "✅ Loaded: medcd_tcm_outpatient_medical_records.csv\n",
            "✅ Loaded: medcd_transfusion_records.csv\n",
            "✅ Loaded: medcd_discharge_records.csv\n",
            "✅ Loaded: medcd_operations.csv\n",
            "✅ Loaded: medcd_temporary_hospital_courses.csv\n",
            "✅ Loaded: medcd_chief_rounds_records.csv\n",
            "✅ Loaded: medcd_critical_emergency_duty_records.csv\n",
            "✅ Loaded: medcd_preoperative_discussion_summary.csv\n",
            "✅ Loaded: medcd_operation_records.csv\n",
            "✅ Loaded: medcd_lab_tests.csv\n"
          ]
        },
        {
          "output_type": "stream",
          "name": "stderr",
          "text": [
            "<ipython-input-3-3fcc0bcd423b>:27: DtypeWarning: Columns (8,9,10,43) have mixed types. Specify dtype option on import or set low_memory=False.\n",
            "  df = pd.read_csv(file_path)\n"
          ]
        },
        {
          "output_type": "stream",
          "name": "stdout",
          "text": [
            "✅ Loaded: medcd_physical_exams.csv\n",
            "✅ Loaded: medcd_first_postoperative_course_and_conversation_records.csv\n",
            "✅ Loaded: medcd_consultation_records.csv\n",
            "✅ Loaded: medcd_attending_physician_rounds_rounds.csv\n",
            "✅ Loaded: medcd_first_hospital_course_records.csv\n",
            "✅ Loaded: medcd_icu_joint_rounds_records.csv\n",
            "✅ Loaded: medcd_medical_instructions.csv\n",
            "✅ Loaded: medcd_transfer_records.csv\n",
            "✅ Loaded: medcd_preoperative_surgeon_rounds_records.csv\n",
            "✅ Loaded: medcd_serious_patient_department_discussion_records.csv\n",
            "✅ Loaded: medcd_multidisciplinary_preoperative_discussion_summary.csv\n",
            "✅ Loaded: medcd_alarm_value_records.csv\n",
            "✅ Loaded: medcd_rescue_records.csv\n",
            "✅ Loaded: medcd_department_director_rounds_records.csv\n",
            "✅ Loaded: medcd_death_case_discussion_records.csv\n",
            "✅ Loaded: medcd_daily_hospital_course_records.csv\n",
            "✅ Loaded: medcd_post_transfusion_effect_evaluation_records.csv\n",
            "✅ Loaded: medcd_stage_summary.csv\n",
            "✅ Loaded: medcd_difficult_case_discussion_records.csv\n",
            "✅ Loaded: medcd_acceptance_records.csv\n",
            "✅ Loaded: medcd_admission_records.csv\n",
            "✅ Loaded: medcd_triage_treatment.csv\n",
            "✅ Loaded: medcd_ner_notes.csv\n",
            "✅ Loaded: medcd_triage_dialogues.csv\n",
            "✅ Loaded: medcd_summary_notes.csv\n",
            "✅ Loaded: medcd_search_notes.csv\n",
            "✅ Loaded: medcd_ner_annotations.csv\n",
            "✅ Loaded: medcd_search_queries.csv\n",
            "✅ Loaded: medcd_summary_scores.csv\n",
            "✅ Loaded single file: CVD_FinalData.csv\n"
          ]
        }
      ]
    },
    {
      "cell_type": "code",
      "source": [
        "!pip install googletrans==4.0.0-rc1\n",
        "from googletrans import Translator\n",
        "translator = Translator()\n"
      ],
      "metadata": {
        "colab": {
          "base_uri": "https://localhost:8080/"
        },
        "id": "fwyLiZyQ0_2O",
        "outputId": "9016466c-0944-4a5f-9410-31a5ce7d289c"
      },
      "execution_count": null,
      "outputs": [
        {
          "output_type": "stream",
          "name": "stdout",
          "text": [
            "Collecting googletrans==4.0.0-rc1\n",
            "  Downloading googletrans-4.0.0rc1.tar.gz (20 kB)\n",
            "  Preparing metadata (setup.py) ... \u001b[?25l\u001b[?25hdone\n",
            "Collecting httpx==0.13.3 (from googletrans==4.0.0-rc1)\n",
            "  Downloading httpx-0.13.3-py3-none-any.whl.metadata (25 kB)\n",
            "Requirement already satisfied: certifi in /usr/local/lib/python3.11/dist-packages (from httpx==0.13.3->googletrans==4.0.0-rc1) (2025.1.31)\n",
            "Collecting hstspreload (from httpx==0.13.3->googletrans==4.0.0-rc1)\n",
            "  Downloading hstspreload-2025.1.1-py3-none-any.whl.metadata (2.1 kB)\n",
            "Requirement already satisfied: sniffio in /usr/local/lib/python3.11/dist-packages (from httpx==0.13.3->googletrans==4.0.0-rc1) (1.3.1)\n",
            "Collecting chardet==3.* (from httpx==0.13.3->googletrans==4.0.0-rc1)\n",
            "  Downloading chardet-3.0.4-py2.py3-none-any.whl.metadata (3.2 kB)\n",
            "Collecting idna==2.* (from httpx==0.13.3->googletrans==4.0.0-rc1)\n",
            "  Downloading idna-2.10-py2.py3-none-any.whl.metadata (9.1 kB)\n",
            "Collecting rfc3986<2,>=1.3 (from httpx==0.13.3->googletrans==4.0.0-rc1)\n",
            "  Downloading rfc3986-1.5.0-py2.py3-none-any.whl.metadata (6.5 kB)\n",
            "Collecting httpcore==0.9.* (from httpx==0.13.3->googletrans==4.0.0-rc1)\n",
            "  Downloading httpcore-0.9.1-py3-none-any.whl.metadata (4.6 kB)\n",
            "Collecting h11<0.10,>=0.8 (from httpcore==0.9.*->httpx==0.13.3->googletrans==4.0.0-rc1)\n",
            "  Downloading h11-0.9.0-py2.py3-none-any.whl.metadata (8.1 kB)\n",
            "Collecting h2==3.* (from httpcore==0.9.*->httpx==0.13.3->googletrans==4.0.0-rc1)\n",
            "  Downloading h2-3.2.0-py2.py3-none-any.whl.metadata (32 kB)\n",
            "Collecting hyperframe<6,>=5.2.0 (from h2==3.*->httpcore==0.9.*->httpx==0.13.3->googletrans==4.0.0-rc1)\n",
            "  Downloading hyperframe-5.2.0-py2.py3-none-any.whl.metadata (7.2 kB)\n",
            "Collecting hpack<4,>=3.0 (from h2==3.*->httpcore==0.9.*->httpx==0.13.3->googletrans==4.0.0-rc1)\n",
            "  Downloading hpack-3.0.0-py2.py3-none-any.whl.metadata (7.0 kB)\n",
            "Downloading httpx-0.13.3-py3-none-any.whl (55 kB)\n",
            "\u001b[2K   \u001b[90m━━━━━━━━━━━━━━━━━━━━━━━━━━━━━━━━━━━━━━━━\u001b[0m \u001b[32m55.1/55.1 kB\u001b[0m \u001b[31m4.5 MB/s\u001b[0m eta \u001b[36m0:00:00\u001b[0m\n",
            "\u001b[?25hDownloading chardet-3.0.4-py2.py3-none-any.whl (133 kB)\n",
            "\u001b[2K   \u001b[90m━━━━━━━━━━━━━━━━━━━━━━━━━━━━━━━━━━━━━━━━\u001b[0m \u001b[32m133.4/133.4 kB\u001b[0m \u001b[31m10.7 MB/s\u001b[0m eta \u001b[36m0:00:00\u001b[0m\n",
            "\u001b[?25hDownloading httpcore-0.9.1-py3-none-any.whl (42 kB)\n",
            "\u001b[2K   \u001b[90m━━━━━━━━━━━━━━━━━━━━━━━━━━━━━━━━━━━━━━━━\u001b[0m \u001b[32m42.6/42.6 kB\u001b[0m \u001b[31m3.3 MB/s\u001b[0m eta \u001b[36m0:00:00\u001b[0m\n",
            "\u001b[?25hDownloading idna-2.10-py2.py3-none-any.whl (58 kB)\n",
            "\u001b[2K   \u001b[90m━━━━━━━━━━━━━━━━━━━━━━━━━━━━━━━━━━━━━━━━\u001b[0m \u001b[32m58.8/58.8 kB\u001b[0m \u001b[31m4.3 MB/s\u001b[0m eta \u001b[36m0:00:00\u001b[0m\n",
            "\u001b[?25hDownloading h2-3.2.0-py2.py3-none-any.whl (65 kB)\n",
            "\u001b[2K   \u001b[90m━━━━━━━━━━━━━━━━━━━━━━━━━━━━━━━━━━━━━━━━\u001b[0m \u001b[32m65.0/65.0 kB\u001b[0m \u001b[31m5.7 MB/s\u001b[0m eta \u001b[36m0:00:00\u001b[0m\n",
            "\u001b[?25hDownloading rfc3986-1.5.0-py2.py3-none-any.whl (31 kB)\n",
            "Downloading hstspreload-2025.1.1-py3-none-any.whl (1.3 MB)\n",
            "\u001b[2K   \u001b[90m━━━━━━━━━━━━━━━━━━━━━━━━━━━━━━━━━━━━━━━━\u001b[0m \u001b[32m1.3/1.3 MB\u001b[0m \u001b[31m49.2 MB/s\u001b[0m eta \u001b[36m0:00:00\u001b[0m\n",
            "\u001b[?25hDownloading h11-0.9.0-py2.py3-none-any.whl (53 kB)\n",
            "\u001b[2K   \u001b[90m━━━━━━━━━━━━━━━━━━━━━━━━━━━━━━━━━━━━━━━━\u001b[0m \u001b[32m53.6/53.6 kB\u001b[0m \u001b[31m4.3 MB/s\u001b[0m eta \u001b[36m0:00:00\u001b[0m\n",
            "\u001b[?25hDownloading hpack-3.0.0-py2.py3-none-any.whl (38 kB)\n",
            "Downloading hyperframe-5.2.0-py2.py3-none-any.whl (12 kB)\n",
            "Building wheels for collected packages: googletrans\n",
            "  Building wheel for googletrans (setup.py) ... \u001b[?25l\u001b[?25hdone\n",
            "  Created wheel for googletrans: filename=googletrans-4.0.0rc1-py3-none-any.whl size=17396 sha256=65a2fbc83809b4d769aa2a9829da1cfff99d968b269a4cee283d1469b024de97\n",
            "  Stored in directory: /root/.cache/pip/wheels/39/17/6f/66a045ea3d168826074691b4b787b8f324d3f646d755443fda\n",
            "Successfully built googletrans\n",
            "Installing collected packages: rfc3986, hyperframe, hpack, h11, chardet, idna, hstspreload, h2, httpcore, httpx, googletrans\n",
            "  Attempting uninstall: hyperframe\n",
            "    Found existing installation: hyperframe 6.1.0\n",
            "    Uninstalling hyperframe-6.1.0:\n",
            "      Successfully uninstalled hyperframe-6.1.0\n",
            "  Attempting uninstall: hpack\n",
            "    Found existing installation: hpack 4.1.0\n",
            "    Uninstalling hpack-4.1.0:\n",
            "      Successfully uninstalled hpack-4.1.0\n",
            "  Attempting uninstall: h11\n",
            "    Found existing installation: h11 0.16.0\n",
            "    Uninstalling h11-0.16.0:\n",
            "      Successfully uninstalled h11-0.16.0\n",
            "  Attempting uninstall: chardet\n",
            "    Found existing installation: chardet 5.2.0\n",
            "    Uninstalling chardet-5.2.0:\n",
            "      Successfully uninstalled chardet-5.2.0\n",
            "  Attempting uninstall: idna\n",
            "    Found existing installation: idna 3.10\n",
            "    Uninstalling idna-3.10:\n",
            "      Successfully uninstalled idna-3.10\n",
            "  Attempting uninstall: h2\n",
            "    Found existing installation: h2 4.2.0\n",
            "    Uninstalling h2-4.2.0:\n",
            "      Successfully uninstalled h2-4.2.0\n",
            "  Attempting uninstall: httpcore\n",
            "    Found existing installation: httpcore 1.0.9\n",
            "    Uninstalling httpcore-1.0.9:\n",
            "      Successfully uninstalled httpcore-1.0.9\n",
            "  Attempting uninstall: httpx\n",
            "    Found existing installation: httpx 0.28.1\n",
            "    Uninstalling httpx-0.28.1:\n",
            "      Successfully uninstalled httpx-0.28.1\n",
            "\u001b[31mERROR: pip's dependency resolver does not currently take into account all the packages that are installed. This behaviour is the source of the following dependency conflicts.\n",
            "langsmith 0.3.34 requires httpx<1,>=0.23.0, but you have httpx 0.13.3 which is incompatible.\n",
            "google-genai 1.12.1 requires httpx<1.0.0,>=0.28.1, but you have httpx 0.13.3 which is incompatible.\n",
            "openai 1.76.0 requires httpx<1,>=0.23.0, but you have httpx 0.13.3 which is incompatible.\u001b[0m\u001b[31m\n",
            "\u001b[0mSuccessfully installed chardet-3.0.4 googletrans-4.0.0rc1 h11-0.9.0 h2-3.2.0 hpack-3.0.0 hstspreload-2025.1.1 httpcore-0.9.1 httpx-0.13.3 hyperframe-5.2.0 idna-2.10 rfc3986-1.5.0\n"
          ]
        }
      ]
    },
    {
      "cell_type": "code",
      "source": [
        "def translate_columns(df):\n",
        "    new_columns = {}\n",
        "    for col in df.columns:\n",
        "        try:\n",
        "            translated = translator.translate(col, src='zh-cn', dest='en').text\n",
        "            new_columns[col] = translated\n",
        "        except:\n",
        "            new_columns[col] = col  # fallback to original\n",
        "    df.rename(columns=new_columns, inplace=True)\n",
        "    return df\n"
      ],
      "metadata": {
        "id": "vncrEuIA1Ek6"
      },
      "execution_count": null,
      "outputs": []
    },
    {
      "cell_type": "code",
      "source": [
        "def translate_column_text(df, column_name):\n",
        "    df[column_name] = df[column_name].astype(str).apply(\n",
        "        lambda x: translator.translate(x, src='zh-cn', dest='en').text if x.strip() else x\n",
        "    )\n",
        "    return df\n"
      ],
      "metadata": {
        "id": "YoxOGoQ-1JIE"
      },
      "execution_count": null,
      "outputs": []
    },
    {
      "cell_type": "code",
      "source": [
        "from scipy.io import loadmat\n"
      ],
      "metadata": {
        "id": "GJDJVnh42SAm"
      },
      "execution_count": null,
      "outputs": []
    },
    {
      "cell_type": "code",
      "source": [
        "data = loadmat('/content/drive/MyDrive/15 Selected Subjects A/s1_delsysEMG.mat')  # adjust path\n"
      ],
      "metadata": {
        "id": "lWEz9V9d2Wus"
      },
      "execution_count": null,
      "outputs": []
    },
    {
      "cell_type": "code",
      "source": [
        "import os\n",
        "from scipy.io import loadmat\n",
        "\n",
        "# Define the full paths for each .mat file (s1 to s15 in A, B, C, D)\n",
        "file_paths = {\n",
        "    'A_s1': '/content/drive/MyDrive/15 Selected Subjects A/s1_delsysEMG.mat',\n",
        "    'A_s2': '/content/drive/MyDrive/15 Selected Subjects A/s2_delsysEMG.mat',\n",
        "    'A_s3': '/content/drive/MyDrive/15 Selected Subjects A/s3_delsysEMG.mat',\n",
        "    'A_s4': '/content/drive/MyDrive/15 Selected Subjects A/s4_delsysEMG.mat',\n",
        "    'B_s5': '/content/drive/MyDrive/15 Selected Subjects B/15 Selected Subjects B/s5_delsysEMG.mat',\n",
        "    'B_s6': '/content/drive/MyDrive/15 Selected Subjects B/15 Selected Subjects B/s6_delsysEMG.mat',\n",
        "    'B_s7': '/content/drive/MyDrive/15 Selected Subjects B/15 Selected Subjects B/s7_delsysEMG.mat',\n",
        "    'B_s8': '/content/drive/MyDrive/15 Selected Subjects B/15 Selected Subjects B/s8_delsysEMG.mat',\n",
        "    'C_s9': '/content/drive/MyDrive/15 Selected Subjects C/15 Selected Subjects C/s9_delsysEMG.mat',\n",
        "    'C_s10': '/content/drive/MyDrive/15 Selected Subjects C/15 Selected Subjects C/s10_delsysEMG.mat',\n",
        "    'C_s11': '/content/drive/MyDrive/15 Selected Subjects C/15 Selected Subjects C/s11_delsysEMG.mat',\n",
        "    'C_s12': '/content/drive/MyDrive/15 Selected Subjects C/15 Selected Subjects C/s12_delsysEMG.mat',\n",
        "    'D_s13': '/content/drive/MyDrive/15 Selected Subjects D/15 Selected Subjects D/s13_delsysEMG.mat',\n",
        "    'D_s14': '/content/drive/MyDrive/15 Selected Subjects D/15 Selected Subjects D/s14_delsysEMG.mat',\n",
        "    'D_s15': '/content/drive/MyDrive/15 Selected Subjects D/15 Selected Subjects D/s15_delsysEMG.mat'\n",
        "}\n",
        "\n",
        "# Dictionary to hold all loaded data\n",
        "all_data = {}\n",
        "\n",
        "# Load each .mat file and store it in the dictionary\n",
        "for subject, path in file_paths.items():\n",
        "    if os.path.exists(path):\n",
        "        data = loadmat(path)\n",
        "        all_data[subject] = data\n",
        "        print(f\"Loaded: {subject} from {path}\")\n",
        "    else:\n",
        "        print(f\"File not found: {subject} at {path}\")\n"
      ],
      "metadata": {
        "colab": {
          "base_uri": "https://localhost:8080/"
        },
        "id": "liZFhHse3pi_",
        "outputId": "6d19ab52-1043-442f-b480-3cee43201aba"
      },
      "execution_count": null,
      "outputs": [
        {
          "output_type": "stream",
          "name": "stdout",
          "text": [
            "Loaded: A_s1 from /content/drive/MyDrive/15 Selected Subjects A/s1_delsysEMG.mat\n",
            "Loaded: A_s2 from /content/drive/MyDrive/15 Selected Subjects A/s2_delsysEMG.mat\n",
            "Loaded: A_s3 from /content/drive/MyDrive/15 Selected Subjects A/s3_delsysEMG.mat\n",
            "Loaded: A_s4 from /content/drive/MyDrive/15 Selected Subjects A/s4_delsysEMG.mat\n",
            "Loaded: B_s5 from /content/drive/MyDrive/15 Selected Subjects B/15 Selected Subjects B/s5_delsysEMG.mat\n",
            "Loaded: B_s6 from /content/drive/MyDrive/15 Selected Subjects B/15 Selected Subjects B/s6_delsysEMG.mat\n",
            "Loaded: B_s7 from /content/drive/MyDrive/15 Selected Subjects B/15 Selected Subjects B/s7_delsysEMG.mat\n",
            "Loaded: B_s8 from /content/drive/MyDrive/15 Selected Subjects B/15 Selected Subjects B/s8_delsysEMG.mat\n",
            "Loaded: C_s9 from /content/drive/MyDrive/15 Selected Subjects C/15 Selected Subjects C/s9_delsysEMG.mat\n",
            "Loaded: C_s10 from /content/drive/MyDrive/15 Selected Subjects C/15 Selected Subjects C/s10_delsysEMG.mat\n",
            "Loaded: C_s11 from /content/drive/MyDrive/15 Selected Subjects C/15 Selected Subjects C/s11_delsysEMG.mat\n",
            "Loaded: C_s12 from /content/drive/MyDrive/15 Selected Subjects C/15 Selected Subjects C/s12_delsysEMG.mat\n",
            "Loaded: D_s13 from /content/drive/MyDrive/15 Selected Subjects D/15 Selected Subjects D/s13_delsysEMG.mat\n",
            "Loaded: D_s14 from /content/drive/MyDrive/15 Selected Subjects D/15 Selected Subjects D/s14_delsysEMG.mat\n",
            "Loaded: D_s15 from /content/drive/MyDrive/15 Selected Subjects D/15 Selected Subjects D/s15_delsysEMG.mat\n"
          ]
        }
      ]
    },
    {
      "cell_type": "code",
      "source": [
        "# Inspect the data for subject A_s1\n",
        "print(all_data['A_s1'])\n"
      ],
      "metadata": {
        "colab": {
          "base_uri": "https://localhost:8080/"
        },
        "id": "D6v8RHN74Zex",
        "outputId": "ac9bdb00-6f7a-40d2-ecce-950eeacf7e0b"
      },
      "execution_count": null,
      "outputs": [
        {
          "output_type": "stream",
          "name": "stdout",
          "text": [
            "{'__header__': b'MATLAB 5.0 MAT-file, Platform: PCWIN64, Created on: Sun May  5 22:34:53 2024', '__version__': '1.0', '__globals__': [], 'in': array([[ 1.0337993e-06, -3.8033828e-05, -3.5582645e-05],\n",
            "       [ 2.4056626e-06, -3.6735630e-05, -3.7726950e-05],\n",
            "       [ 4.0211753e-06, -3.7056652e-05, -3.5606750e-05],\n",
            "       ...,\n",
            "       [ 3.6447826e-05, -5.2241921e-05, -3.2273347e-05],\n",
            "       [ 3.5406894e-05, -5.5525550e-05, -3.4872122e-05],\n",
            "       [ 3.9477756e-05, -5.2781448e-05, -3.8528491e-05]], dtype=float32), 'in_mi': array([[ 1.2256156e-05, -3.5549063e-05, -3.2542292e-05],\n",
            "       [ 9.9795252e-06, -3.3887012e-05, -3.2715921e-05],\n",
            "       [ 1.0831729e-05, -3.3968550e-05, -3.2606542e-05],\n",
            "       ...,\n",
            "       [ 3.6447826e-05, -5.2241921e-05, -3.2273347e-05],\n",
            "       [ 3.5406894e-05, -5.5525550e-05, -3.4872122e-05],\n",
            "       [ 3.9477756e-05, -5.2781448e-05, -3.8528491e-05]], dtype=float32), 'in_mi_ri': array([[ 3.0273875e-06, -3.9276212e-05, -2.8792349e-05],\n",
            "       [ 3.8878343e-06, -3.8713621e-05, -2.9176899e-05],\n",
            "       [ 2.7417736e-06, -3.7484460e-05, -2.9516461e-05],\n",
            "       ...,\n",
            "       [ 2.3145987e-05, -2.3292489e-05, -1.5809028e-05],\n",
            "       [ 5.8521520e-05, -1.3065030e-05, -1.3832760e-05],\n",
            "       [ 7.8577468e-05, -4.6963810e-06, -1.8384722e-05]], dtype=float32), 'li': array([[ 2.0083523e-06, -3.6708472e-05, -3.2182121e-05],\n",
            "       [-7.7675179e-07, -3.7587084e-05, -3.2575786e-05],\n",
            "       [-6.0702303e-07, -3.8187736e-05, -3.1711144e-05],\n",
            "       ...,\n",
            "       [ 4.2592248e-05, -3.4890654e-05, -2.8334975e-05],\n",
            "       [ 4.5100100e-05, -3.0978830e-05, -2.8781991e-05],\n",
            "       [ 4.7379170e-05, -2.9552077e-05, -2.9569532e-05]], dtype=float32), 'li_th': array([[ 6.6867810e-06, -4.0912313e-05, -2.7861483e-05],\n",
            "       [ 6.4340202e-06, -4.3261458e-05, -2.7823720e-05],\n",
            "       [ 6.8986133e-06, -4.2216594e-05, -2.8464741e-05],\n",
            "       ...,\n",
            "       [ 4.2592248e-05, -3.4890654e-05, -2.8334975e-05],\n",
            "       [ 4.5100100e-05, -3.0978830e-05, -2.8781991e-05],\n",
            "       [ 4.7379170e-05, -2.9552077e-05, -2.9569532e-05]], dtype=float32), 'mi': array([[ 1.0228181e-05, -4.0686045e-05, -3.3150627e-05],\n",
            "       [ 8.0515974e-06, -4.0009687e-05, -3.3544431e-05],\n",
            "       [ 6.1511996e-06, -3.9920655e-05, -3.5474401e-05],\n",
            "       ...,\n",
            "       [ 1.2001582e-05, -3.6745139e-05, -3.2463107e-05],\n",
            "       [ 3.7176542e-07, -3.7028913e-05, -3.0222251e-05],\n",
            "       [-1.8845884e-06, -3.6207704e-05, -3.0043544e-05]], dtype=float32), 'mi_ri': array([[ 7.8482435e-06, -2.9781691e-05, -3.2565764e-05],\n",
            "       [ 7.1016602e-06, -3.3271357e-05, -3.1418167e-05],\n",
            "       [ 6.9913463e-06, -3.5894664e-05, -3.1133903e-05],\n",
            "       ...,\n",
            "       [-1.0964302e-05, -3.6046418e-05, -2.1837741e-05],\n",
            "       [-1.1326006e-05, -3.4260920e-05, -2.4411256e-05],\n",
            "       [ 4.1049607e-06, -3.5151381e-05, -2.8950573e-05]], dtype=float32), 'mi_ri_li': array([[ 6.7929909e-06, -3.0284216e-05, -3.5360918e-05],\n",
            "       [ 6.6881848e-06, -3.2092208e-05, -3.4633191e-05],\n",
            "       [ 7.2290168e-06, -3.4465309e-05, -3.2661956e-05],\n",
            "       ...,\n",
            "       [ 5.1125648e-06, -3.3049666e-05, -5.3051754e-05],\n",
            "       [ 2.1273625e-05, -3.3878412e-05, -5.1145347e-05],\n",
            "       [ 1.9491303e-05, -3.1428142e-05, -4.7801361e-05]], dtype=float32), 'ri': array([[ 5.7242974e-06, -3.7497484e-05, -4.4303138e-06],\n",
            "       [ 5.8684395e-06, -1.6329914e-05, -3.4439875e-06],\n",
            "       [ 4.6423429e-06,  2.4923177e-06, -6.2756790e-06],\n",
            "       ...,\n",
            "       [-2.4531639e-05, -3.8893402e-05, -2.9721919e-05],\n",
            "       [-3.5532983e-05, -3.4202556e-05, -2.8416045e-05],\n",
            "       [-4.2962034e-05, -3.0535040e-05, -2.8476077e-05]], dtype=float32), 'ri_li': array([[ 1.0088077e-06, -3.1080785e-05, -3.6550769e-05],\n",
            "       [-3.6295637e-06, -3.1334785e-05, -3.5206194e-05],\n",
            "       [-6.6208527e-06, -3.0595103e-05, -3.4892353e-05],\n",
            "       ...,\n",
            "       [ 2.9185445e-05, -3.8792878e-05, -2.9909381e-05],\n",
            "       [ 2.6704833e-05, -3.7157195e-05, -3.1570704e-05],\n",
            "       [ 2.7608528e-05, -3.7341597e-05, -3.3099084e-05]], dtype=float32), 'th': array([[ 8.93978540e-06, -3.16638871e-05, -3.40226834e-05],\n",
            "       [ 9.76060437e-06, -3.22854976e-05, -3.26601621e-05],\n",
            "       [ 9.25553832e-06, -3.27673224e-05, -3.25652582e-05],\n",
            "       ...,\n",
            "       [ 8.36943309e-06, -6.22874140e-05, -2.32683251e-05],\n",
            "       [ 1.00590505e-05, -7.23243502e-05, -1.93283377e-05],\n",
            "       [ 1.50761489e-05, -7.32936460e-05, -1.24158014e-05]], dtype=float32), 'th_in': array([[ 9.1838456e-06, -3.3221306e-05, -3.3800290e-05],\n",
            "       [ 1.5491185e-05, -3.3243639e-05, -3.0710456e-05],\n",
            "       [ 1.7973936e-05, -3.4290686e-05, -2.9852146e-05],\n",
            "       ...,\n",
            "       [ 2.1371305e-05, -1.8423087e-05, -7.8078330e-05],\n",
            "       [ 2.0898418e-05, -1.4630751e-05, -7.1330338e-05],\n",
            "       [ 2.0432180e-05, -1.8628056e-05, -5.9488095e-05]], dtype=float32), 'th_in_li': array([[ 8.12866074e-06, -3.59627156e-05, -3.65722626e-05],\n",
            "       [ 5.33441744e-06, -3.53276555e-05, -3.82996550e-05],\n",
            "       [ 3.69022473e-06, -3.36129124e-05, -3.82278704e-05],\n",
            "       ...,\n",
            "       [ 3.72809009e-05, -1.08792065e-05, -2.82299188e-05],\n",
            "       [ 3.15360230e-05, -8.65891798e-06, -3.01261480e-05],\n",
            "       [ 2.00314589e-05, -1.28368665e-05, -3.46530578e-05]], dtype=float32), 'th_in_mi': array([[ 5.5175665e-06, -3.4583147e-05, -3.2721768e-05],\n",
            "       [ 3.2429414e-06, -3.5387751e-05, -3.3573557e-05],\n",
            "       [ 6.9132426e-07, -3.6523492e-05, -3.3833861e-05],\n",
            "       ...,\n",
            "       [ 7.0370494e-05, -4.5757948e-05, -4.3870354e-05],\n",
            "       [ 7.0790084e-05, -4.4726021e-05, -4.2516087e-05],\n",
            "       [ 5.5480774e-05, -4.2040701e-05, -4.3209027e-05]], dtype=float32), 'th_ri_li': array([[-3.4510451e-06, -3.9489609e-05, -2.7475149e-05],\n",
            "       [-8.2170379e-07, -3.9437513e-05, -3.0231658e-05],\n",
            "       [ 4.5146949e-06, -3.7029324e-05, -3.2708063e-05],\n",
            "       ...,\n",
            "       [ 2.2808757e-05, -2.6669333e-05, -1.5593174e-05],\n",
            "       [ 1.2258895e-05, -2.7903365e-05, -1.9299658e-05],\n",
            "       [ 4.4562789e-06, -3.0946605e-05, -2.5228424e-05]], dtype=float32)}\n"
          ]
        }
      ]
    },
    {
      "cell_type": "code",
      "source": [
        "notes_folder = \"/content/drive/MyDrive/medcd_notes\"\n",
        "annotations_folder = \"/content/drive/MyDrive/medcd_annotations\"\n"
      ],
      "metadata": {
        "id": "V5Gy6V9e1U85"
      },
      "execution_count": null,
      "outputs": []
    },
    {
      "cell_type": "code",
      "source": [
        "all_notes = []\n",
        "\n",
        "for filename in os.listdir(notes_folder):\n",
        "    if filename.endswith('.csv') or filename.endswith('.tsv'):\n",
        "        file_path = os.path.join(notes_folder, filename)\n",
        "        try:\n",
        "            df = pd.read_csv(file_path, sep=None, engine='python')  # Handles both CSV and TSV\n",
        "            all_notes.append(df)\n",
        "        except Exception as e:\n",
        "            print(f\"Error reading {filename}: {e}\")\n",
        "\n",
        "# Combine all DataFrames into one\n",
        "medcd_notes = pd.concat(all_notes, ignore_index=True)\n"
      ],
      "metadata": {
        "id": "RnTYhUDG-NCO"
      },
      "execution_count": null,
      "outputs": []
    },
    {
      "cell_type": "code",
      "source": [
        "all_annotations = []\n",
        "\n",
        "for filename in os.listdir(annotations_folder):\n",
        "    if filename.endswith('.csv') or filename.endswith('.tsv'):\n",
        "        file_path = os.path.join(annotations_folder, filename)\n",
        "        try:\n",
        "            df = pd.read_csv(file_path, sep=None, engine='python')\n",
        "            all_annotations.append(df)\n",
        "        except Exception as e:\n",
        "            print(f\"Error reading {filename}: {e}\")\n",
        "\n",
        "medcd_annotations = pd.concat(all_annotations, ignore_index=True)\n"
      ],
      "metadata": {
        "id": "cUWx52bM-Rz1"
      },
      "execution_count": null,
      "outputs": []
    },
    {
      "cell_type": "code",
      "source": [
        "print(\"MedCD-Notes:\")\n",
        "print(medcd_notes.head())\n",
        "\n",
        "print(\"\\nMedCD-Annotations:\")\n",
        "print(medcd_annotations.head())\n"
      ],
      "metadata": {
        "colab": {
          "base_uri": "https://localhost:8080/"
        },
        "id": "PNchxHW0-WW2",
        "outputId": "9335a0f8-1ab1-4966-b61d-1e07b6f11dac"
      },
      "execution_count": null,
      "outputs": [
        {
          "output_type": "stream",
          "name": "stdout",
          "text": [
            "MedCD-Notes:\n",
            "   subject_id  hadm_id               date exam_type  \\\n",
            "0     6337224        3  2024/1/4 10:37:00        CT   \n",
            "1     6337224        3  2024/1/6 11:01:35        CT   \n",
            "2     6337224        3  2024/1/2 10:43:42        CB   \n",
            "3     6337224        3  2024/1/2 10:38:30         B   \n",
            "4     6337224        3  2024/1/2 10:38:36         B   \n",
            "\n",
            "                         exam_item  \\\n",
            "0                          全腹部CT平扫   \n",
            "1                       颅脑CT平扫(外伤)   \n",
            "2  心脏彩色多普勒超声、左心功能测定、室壁运动分析、组织多普勒显像   \n",
            "3                        双侧颈动脉彩超检查   \n",
            "4  (VTE)右下肢动静脉超声检查/(VTE)左下肢动静脉超声检查   \n",
            "\n",
            "                                  diagnostic_imaging  \\\n",
            "0  右肾小结石。\\n右肾上腺结节，建议进一步检查。\\n前列腺钙化灶。左侧精囊腺及两侧输精管钙化。...   \n",
            "1  两侧额叶及左侧半卵圆中心出血考虑，较前2023-12-31 21:50密度减低，请结合临床复...   \n",
            "2  1. 三尖瓣轻度返流\\n2. 双侧颈动脉内中膜不均增厚伴左侧斑块形成\\n3. 双下肢动脉硬化...   \n",
            "3  1. 三尖瓣轻度返流\\n2. 双侧颈动脉内中膜不均增厚伴左侧斑块形成\\n3. 双下肢动脉硬化...   \n",
            "4  1. 三尖瓣轻度返流\\n2. 双侧颈动脉内中膜不均增厚伴左侧斑块形成\\n3. 双下肢动脉硬化...   \n",
            "\n",
            "                                    exam_observation name gender  \\\n",
            "0    肝脏形态大小如常，边缘光整，肝各叶比例协调，肝裂未见明显增宽，肝实质内见未见异常密度影，...  NaN    NaN   \n",
            "1      两侧额叶见结节状高密度影；左侧半卵圆中心斑片高密度影，边界不清。透明隔腔扩大，余脑室...  NaN    NaN   \n",
            "2  M型、2－DE：各房室大小正常范围，大动脉关系及内径正常范围。主波明显，重搏波清晰，主瓣清晰...  NaN    NaN   \n",
            "3  M型、2－DE：各房室大小正常范围，大动脉关系及内径正常范围。主波明显，重搏波清晰，主瓣清晰...  NaN    NaN   \n",
            "4  M型、2－DE：各房室大小正常范围，大动脉关系及内径正常范围。主波明显，重搏波清晰，主瓣清晰...  NaN    NaN   \n",
            "\n",
            "  consultation_time  ... addictive_medications  \\\n",
            "0               NaN  ...                   NaN   \n",
            "1               NaN  ...                   NaN   \n",
            "2               NaN  ...                   NaN   \n",
            "3               NaN  ...                   NaN   \n",
            "4               NaN  ...                   NaN   \n",
            "\n",
            "  special_assessment_for_children menstrual_history  \\\n",
            "0                             NaN               NaN   \n",
            "1                             NaN               NaN   \n",
            "2                             NaN               NaN   \n",
            "3                             NaN               NaN   \n",
            "4                             NaN               NaN   \n",
            "\n",
            "  marriage_and_childbearing_history admission_ADL VTE_assessment_results  \\\n",
            "0                               NaN           NaN                    NaN   \n",
            "1                               NaN           NaN                    NaN   \n",
            "2                               NaN           NaN                    NaN   \n",
            "3                               NaN           NaN                    NaN   \n",
            "4                               NaN           NaN                    NaN   \n",
            "\n",
            "  bleeding_risk_assessment_results preventive_measures_results  \\\n",
            "0                              NaN                         NaN   \n",
            "1                              NaN                         NaN   \n",
            "2                              NaN                         NaN   \n",
            "3                              NaN                         NaN   \n",
            "4                              NaN                         NaN   \n",
            "\n",
            "  corrected_diagnosis supplementary_diagnosis  \n",
            "0                 NaN                     NaN  \n",
            "1                 NaN                     NaN  \n",
            "2                 NaN                     NaN  \n",
            "3                 NaN                     NaN  \n",
            "4                 NaN                     NaN  \n",
            "\n",
            "[5 rows x 191 columns]\n",
            "\n",
            "MedCD-Annotations:\n",
            "   subject_id       time chief_complaint  \\\n",
            "0    100014.0  2023/11/1        月经不规律2月余   \n",
            "1    100064.0  2023/11/1        右上后牙疼痛1日   \n",
            "2    100075.0  2023/11/1      右足丘疹水疱伴痒4天   \n",
            "3    100116.0  2023/11/1        月经不规则3月余   \n",
            "4    100123.0  2023/11/1        右膝酸胀不适2天   \n",
            "\n",
            "                          history_of_present_illness  \\\n",
            "0  pMP9.20-10.1，前次月经2月前，10.9再次阴道出血，量不多，自述平素月经量中，无...   \n",
            "1                                     1天来，右上后牙疼痛，今就诊   \n",
            "2                                 右足丘疹水疱伴痒4天，伴疼痛，未治疗   \n",
            "3              2023.8开始月经不规则，周期20多天，偶有40余天，lmp 10.26   \n",
            "4                                           右膝酸胀不适2天   \n",
            "\n",
            "                                           diagnosis department note_id text  \\\n",
            "0  子宫内膜增厚 ^_^  ^_^ R93.803 ^_^  ^_^ H ^_^  ^_^ 1 ...         妇科     NaN  NaN   \n",
            "1  牙髓炎 ^_^  ^_^ K04.000 ^_^  ^_^ H ^_^  ^_^ 1 ^_^...        口腔科     NaN  NaN   \n",
            "2  皮炎 ^_^  ^_^ L30.900 ^_^  ^_^ H ^_^  ^_^ 1 ^_^ ...        皮肤科     NaN  NaN   \n",
            "3  月经不规则 ^_^  ^_^ N92.600 ^_^  ^_^ H ^_^  ^_^ 1 ^...         妇科     NaN  NaN   \n",
            "4  膝关节痛 ^_^  ^_^ M25.506 ^_^  ^_^ H ^_^  ^_^  ^_^...         骨科     NaN  NaN   \n",
            "\n",
            "  triage_dialog input  ... clarity_b relevance_h relevance_a  relevance_b  \\\n",
            "0           NaN   NaN  ...       NaN         NaN         NaN          NaN   \n",
            "1           NaN   NaN  ...       NaN         NaN         NaN          NaN   \n",
            "2           NaN   NaN  ...       NaN         NaN         NaN          NaN   \n",
            "3           NaN   NaN  ...       NaN         NaN         NaN          NaN   \n",
            "4           NaN   NaN  ...       NaN         NaN         NaN          NaN   \n",
            "\n",
            "  conciseness_h conciseness_a conciseness_b clinical_h clinical_a clinical_b  \n",
            "0           NaN           NaN           NaN        NaN        NaN        NaN  \n",
            "1           NaN           NaN           NaN        NaN        NaN        NaN  \n",
            "2           NaN           NaN           NaN        NaN        NaN        NaN  \n",
            "3           NaN           NaN           NaN        NaN        NaN        NaN  \n",
            "4           NaN           NaN           NaN        NaN        NaN        NaN  \n",
            "\n",
            "[5 rows x 72 columns]\n"
          ]
        }
      ]
    },
    {
      "cell_type": "code",
      "source": [
        "import pandas as pd\n",
        "from sklearn.model_selection import train_test_split, cross_val_score, GridSearchCV\n",
        "from sklearn.preprocessing import StandardScaler, LabelEncoder\n",
        "from sklearn.ensemble import RandomForestClassifier\n",
        "from sklearn.metrics import classification_report\n",
        "import scipy.io as sio\n",
        "from imblearn.over_sampling import SMOTE\n",
        "\n",
        "# Step 1: Load your data\n",
        "cvd_data = pd.read_csv('/content/drive/MyDrive/CVD_FinalData.csv')\n",
        "\n",
        "# Example: Load EMG data from .mat files (this step is placeholder, depending on your needs)\n",
        "emg_data_s1 = sio.loadmat('/content/drive/MyDrive/15 Selected Subjects A/s1_delsysEMG.mat')\n",
        "# Repeat for other EMG files as needed\n",
        "\n",
        "# Step 2: Data Preprocessing for CVD Data\n",
        "cvd_data = cvd_data.dropna()  # Dropping missing values (can also impute if needed)\n",
        "\n",
        "# Example feature and target columns\n",
        "X = cvd_data.drop(columns=['TenYearCHD'])  # Replace 'TenYearCHD' with the actual target column\n",
        "y = cvd_data['TenYearCHD']  # Target column\n",
        "\n",
        "# Handle categorical variables\n",
        "label_cols = ['sex', 'is_smoking', 'exng']  # Update this list with all binary categorical columns\n",
        "encoder = LabelEncoder()\n",
        "\n",
        "for col in label_cols:\n",
        "    X[col] = encoder.fit_transform(X[col])\n",
        "\n",
        "X = pd.get_dummies(X, drop_first=True)\n",
        "\n",
        "# Step 3: Scaling numerical features\n",
        "scaler = StandardScaler()\n",
        "X_scaled = scaler.fit_transform(X)\n",
        "\n",
        "# Encode the target variable\n",
        "encoder_y = LabelEncoder()\n",
        "y_encoded = encoder_y.fit_transform(y)\n",
        "\n",
        "# Step 4: Train-test split\n",
        "X_train, X_test, y_train, y_test = train_test_split(X_scaled, y_encoded, test_size=0.2, random_state=42)\n",
        "\n",
        "# Step 5: Resampling the data to handle class imbalance (if applicable)\n",
        "smote = SMOTE(random_state=42)\n",
        "X_train_resampled, y_train_resampled = smote.fit_resample(X_train, y_train)\n",
        "\n",
        "# Step 6: Hyperparameter Tuning with GridSearchCV\n",
        "param_grid = {\n",
        "    'n_estimators': [50, 100, 200],\n",
        "    'max_depth': [5, 10, 15, None],\n",
        "    'min_samples_split': [2, 5, 10],\n",
        "    'min_samples_leaf': [1, 2, 4]\n",
        "}\n",
        "\n",
        "# Initialize Random Forest Classifier\n",
        "rf = RandomForestClassifier(random_state=42)\n",
        "\n",
        "# Use GridSearchCV to tune hyperparameters\n",
        "grid_search = GridSearchCV(estimator=rf, param_grid=param_grid, cv=3, n_jobs=-1, verbose=2)\n",
        "\n",
        "# Train the model with GridSearchCV\n",
        "grid_search.fit(X_train_resampled, y_train_resampled)\n",
        "\n",
        "# Get the best parameters and model\n",
        "best_rf_model = grid_search.best_estimator_\n",
        "\n",
        "# Step 7: Evaluate the Model\n",
        "y_pred = best_rf_model.predict(X_test)\n",
        "\n",
        "# Classification report\n",
        "print(\"Best Parameters: \", grid_search.best_params_)\n",
        "print(\"Classification Report:\\n\", classification_report(y_test, y_pred))\n",
        "\n",
        "# Step 8: Cross-validation to ensure generalization\n",
        "cv_scores = cross_val_score(best_rf_model, X_scaled, y_encoded, cv=10)\n",
        "print(\"Cross-validation accuracy scores: \", cv_scores)\n",
        "print(\"Mean cross-validation accuracy: \", cv_scores.mean())\n"
      ],
      "metadata": {
        "id": "1vwTw-gZGNr6",
        "colab": {
          "base_uri": "https://localhost:8080/"
        },
        "outputId": "badfa8c3-f911-4cd6-b99f-b0dcd83324c6"
      },
      "execution_count": null,
      "outputs": [
        {
          "output_type": "stream",
          "name": "stdout",
          "text": [
            "Fitting 3 folds for each of 108 candidates, totalling 324 fits\n",
            "Best Parameters:  {'max_depth': 5, 'min_samples_leaf': 1, 'min_samples_split': 2, 'n_estimators': 50}\n",
            "Classification Report:\n",
            "               precision    recall  f1-score   support\n",
            "\n",
            "           0       1.00      1.00      1.00       488\n",
            "           1       1.00      1.00      1.00       445\n",
            "\n",
            "    accuracy                           1.00       933\n",
            "   macro avg       1.00      1.00      1.00       933\n",
            "weighted avg       1.00      1.00      1.00       933\n",
            "\n",
            "Cross-validation accuracy scores:  [1. 1. 1. 1. 1. 1. 1. 1. 1. 1.]\n",
            "Mean cross-validation accuracy:  1.0\n"
          ]
        }
      ]
    },
    {
      "cell_type": "code",
      "source": [
        "from sklearn.model_selection import cross_val_score\n",
        "\n",
        "# Using Cross-validation for better generalization\n",
        "cv_scores_rf = cross_val_score(best_rf_model, X_scaled, y_encoded, cv=5, scoring='accuracy')\n",
        "print(f\"Random Forest Cross-Validation Accuracy: {cv_scores_rf.mean()}\")\n",
        "\n"
      ],
      "metadata": {
        "colab": {
          "base_uri": "https://localhost:8080/"
        },
        "id": "EB5UBba3Jm4j",
        "outputId": "2f41e145-c3dc-4d54-989a-53ad3e08a864"
      },
      "execution_count": null,
      "outputs": [
        {
          "output_type": "stream",
          "name": "stdout",
          "text": [
            "Random Forest Cross-Validation Accuracy: 1.0\n"
          ]
        }
      ]
    },
    {
      "cell_type": "code",
      "source": [
        "# Check class distribution\n",
        "import pandas as pd\n",
        "print(pd.Series(y).value_counts())\n"
      ],
      "metadata": {
        "colab": {
          "base_uri": "https://localhost:8080/"
        },
        "id": "zRq2x2vAJ6IB",
        "outputId": "b175116c-2cd2-4769-8133-0503d17e32b3"
      },
      "execution_count": null,
      "outputs": [
        {
          "output_type": "stream",
          "name": "stdout",
          "text": [
            "TenYearCHD\n",
            "0    2483\n",
            "1    2179\n",
            "Name: count, dtype: int64\n"
          ]
        }
      ]
    },
    {
      "cell_type": "code",
      "source": [
        "!pip install streamlit\n"
      ],
      "metadata": {
        "colab": {
          "base_uri": "https://localhost:8080/"
        },
        "id": "XPC4HPehAXpm",
        "outputId": "5f8ed66a-02fd-44ef-d5bd-472b8a887ebd"
      },
      "execution_count": null,
      "outputs": [
        {
          "output_type": "stream",
          "name": "stdout",
          "text": [
            "Collecting streamlit\n",
            "  Downloading streamlit-1.44.1-py3-none-any.whl.metadata (8.9 kB)\n",
            "Requirement already satisfied: altair<6,>=4.0 in /usr/local/lib/python3.11/dist-packages (from streamlit) (5.5.0)\n",
            "Requirement already satisfied: blinker<2,>=1.0.0 in /usr/local/lib/python3.11/dist-packages (from streamlit) (1.9.0)\n",
            "Requirement already satisfied: cachetools<6,>=4.0 in /usr/local/lib/python3.11/dist-packages (from streamlit) (5.5.2)\n",
            "Requirement already satisfied: click<9,>=7.0 in /usr/local/lib/python3.11/dist-packages (from streamlit) (8.1.8)\n",
            "Requirement already satisfied: numpy<3,>=1.23 in /usr/local/lib/python3.11/dist-packages (from streamlit) (2.0.2)\n",
            "Requirement already satisfied: packaging<25,>=20 in /usr/local/lib/python3.11/dist-packages (from streamlit) (24.2)\n",
            "Requirement already satisfied: pandas<3,>=1.4.0 in /usr/local/lib/python3.11/dist-packages (from streamlit) (2.2.2)\n",
            "Requirement already satisfied: pillow<12,>=7.1.0 in /usr/local/lib/python3.11/dist-packages (from streamlit) (11.2.1)\n",
            "Requirement already satisfied: protobuf<6,>=3.20 in /usr/local/lib/python3.11/dist-packages (from streamlit) (5.29.4)\n",
            "Requirement already satisfied: pyarrow>=7.0 in /usr/local/lib/python3.11/dist-packages (from streamlit) (18.1.0)\n",
            "Requirement already satisfied: requests<3,>=2.27 in /usr/local/lib/python3.11/dist-packages (from streamlit) (2.32.3)\n",
            "Requirement already satisfied: tenacity<10,>=8.1.0 in /usr/local/lib/python3.11/dist-packages (from streamlit) (9.1.2)\n",
            "Requirement already satisfied: toml<2,>=0.10.1 in /usr/local/lib/python3.11/dist-packages (from streamlit) (0.10.2)\n",
            "Requirement already satisfied: typing-extensions<5,>=4.4.0 in /usr/local/lib/python3.11/dist-packages (from streamlit) (4.13.2)\n",
            "Collecting watchdog<7,>=2.1.5 (from streamlit)\n",
            "  Downloading watchdog-6.0.0-py3-none-manylinux2014_x86_64.whl.metadata (44 kB)\n",
            "\u001b[2K     \u001b[90m━━━━━━━━━━━━━━━━━━━━━━━━━━━━━━━━━━━━━━━━\u001b[0m \u001b[32m44.3/44.3 kB\u001b[0m \u001b[31m2.9 MB/s\u001b[0m eta \u001b[36m0:00:00\u001b[0m\n",
            "\u001b[?25hRequirement already satisfied: gitpython!=3.1.19,<4,>=3.0.7 in /usr/local/lib/python3.11/dist-packages (from streamlit) (3.1.44)\n",
            "Collecting pydeck<1,>=0.8.0b4 (from streamlit)\n",
            "  Downloading pydeck-0.9.1-py2.py3-none-any.whl.metadata (4.1 kB)\n",
            "Requirement already satisfied: tornado<7,>=6.0.3 in /usr/local/lib/python3.11/dist-packages (from streamlit) (6.4.2)\n",
            "Requirement already satisfied: jinja2 in /usr/local/lib/python3.11/dist-packages (from altair<6,>=4.0->streamlit) (3.1.6)\n",
            "Requirement already satisfied: jsonschema>=3.0 in /usr/local/lib/python3.11/dist-packages (from altair<6,>=4.0->streamlit) (4.23.0)\n",
            "Requirement already satisfied: narwhals>=1.14.2 in /usr/local/lib/python3.11/dist-packages (from altair<6,>=4.0->streamlit) (1.36.0)\n",
            "Requirement already satisfied: gitdb<5,>=4.0.1 in /usr/local/lib/python3.11/dist-packages (from gitpython!=3.1.19,<4,>=3.0.7->streamlit) (4.0.12)\n",
            "Requirement already satisfied: python-dateutil>=2.8.2 in /usr/local/lib/python3.11/dist-packages (from pandas<3,>=1.4.0->streamlit) (2.9.0.post0)\n",
            "Requirement already satisfied: pytz>=2020.1 in /usr/local/lib/python3.11/dist-packages (from pandas<3,>=1.4.0->streamlit) (2025.2)\n",
            "Requirement already satisfied: tzdata>=2022.7 in /usr/local/lib/python3.11/dist-packages (from pandas<3,>=1.4.0->streamlit) (2025.2)\n",
            "Requirement already satisfied: charset-normalizer<4,>=2 in /usr/local/lib/python3.11/dist-packages (from requests<3,>=2.27->streamlit) (3.4.1)\n",
            "Requirement already satisfied: idna<4,>=2.5 in /usr/local/lib/python3.11/dist-packages (from requests<3,>=2.27->streamlit) (2.10)\n",
            "Requirement already satisfied: urllib3<3,>=1.21.1 in /usr/local/lib/python3.11/dist-packages (from requests<3,>=2.27->streamlit) (2.4.0)\n",
            "Requirement already satisfied: certifi>=2017.4.17 in /usr/local/lib/python3.11/dist-packages (from requests<3,>=2.27->streamlit) (2025.1.31)\n",
            "Requirement already satisfied: smmap<6,>=3.0.1 in /usr/local/lib/python3.11/dist-packages (from gitdb<5,>=4.0.1->gitpython!=3.1.19,<4,>=3.0.7->streamlit) (5.0.2)\n",
            "Requirement already satisfied: MarkupSafe>=2.0 in /usr/local/lib/python3.11/dist-packages (from jinja2->altair<6,>=4.0->streamlit) (3.0.2)\n",
            "Requirement already satisfied: attrs>=22.2.0 in /usr/local/lib/python3.11/dist-packages (from jsonschema>=3.0->altair<6,>=4.0->streamlit) (25.3.0)\n",
            "Requirement already satisfied: jsonschema-specifications>=2023.03.6 in /usr/local/lib/python3.11/dist-packages (from jsonschema>=3.0->altair<6,>=4.0->streamlit) (2025.4.1)\n",
            "Requirement already satisfied: referencing>=0.28.4 in /usr/local/lib/python3.11/dist-packages (from jsonschema>=3.0->altair<6,>=4.0->streamlit) (0.36.2)\n",
            "Requirement already satisfied: rpds-py>=0.7.1 in /usr/local/lib/python3.11/dist-packages (from jsonschema>=3.0->altair<6,>=4.0->streamlit) (0.24.0)\n",
            "Requirement already satisfied: six>=1.5 in /usr/local/lib/python3.11/dist-packages (from python-dateutil>=2.8.2->pandas<3,>=1.4.0->streamlit) (1.17.0)\n",
            "Downloading streamlit-1.44.1-py3-none-any.whl (9.8 MB)\n",
            "\u001b[2K   \u001b[90m━━━━━━━━━━━━━━━━━━━━━━━━━━━━━━━━━━━━━━━━\u001b[0m \u001b[32m9.8/9.8 MB\u001b[0m \u001b[31m103.0 MB/s\u001b[0m eta \u001b[36m0:00:00\u001b[0m\n",
            "\u001b[?25hDownloading pydeck-0.9.1-py2.py3-none-any.whl (6.9 MB)\n",
            "\u001b[2K   \u001b[90m━━━━━━━━━━━━━━━━━━━━━━━━━━━━━━━━━━━━━━━━\u001b[0m \u001b[32m6.9/6.9 MB\u001b[0m \u001b[31m106.8 MB/s\u001b[0m eta \u001b[36m0:00:00\u001b[0m\n",
            "\u001b[?25hDownloading watchdog-6.0.0-py3-none-manylinux2014_x86_64.whl (79 kB)\n",
            "\u001b[2K   \u001b[90m━━━━━━━━━━━━━━━━━━━━━━━━━━━━━━━━━━━━━━━━\u001b[0m \u001b[32m79.1/79.1 kB\u001b[0m \u001b[31m6.5 MB/s\u001b[0m eta \u001b[36m0:00:00\u001b[0m\n",
            "\u001b[?25hInstalling collected packages: watchdog, pydeck, streamlit\n",
            "Successfully installed pydeck-0.9.1 streamlit-1.44.1 watchdog-6.0.0\n"
          ]
        }
      ]
    },
    {
      "cell_type": "code",
      "source": [
        "!pip install streamlit pyngrok\n",
        "!pip install streamlit pyngrok joblib\n",
        "\n"
      ],
      "metadata": {
        "colab": {
          "base_uri": "https://localhost:8080/"
        },
        "id": "AoTvVa1pLR9t",
        "outputId": "2024e206-a66e-4e08-9d85-bd1b6e5785cf"
      },
      "execution_count": null,
      "outputs": [
        {
          "output_type": "stream",
          "name": "stdout",
          "text": [
            "Requirement already satisfied: streamlit in /usr/local/lib/python3.11/dist-packages (1.44.1)\n",
            "Collecting pyngrok\n",
            "  Downloading pyngrok-7.2.5-py3-none-any.whl.metadata (8.9 kB)\n",
            "Requirement already satisfied: altair<6,>=4.0 in /usr/local/lib/python3.11/dist-packages (from streamlit) (5.5.0)\n",
            "Requirement already satisfied: blinker<2,>=1.0.0 in /usr/local/lib/python3.11/dist-packages (from streamlit) (1.9.0)\n",
            "Requirement already satisfied: cachetools<6,>=4.0 in /usr/local/lib/python3.11/dist-packages (from streamlit) (5.5.2)\n",
            "Requirement already satisfied: click<9,>=7.0 in /usr/local/lib/python3.11/dist-packages (from streamlit) (8.1.8)\n",
            "Requirement already satisfied: numpy<3,>=1.23 in /usr/local/lib/python3.11/dist-packages (from streamlit) (2.0.2)\n",
            "Requirement already satisfied: packaging<25,>=20 in /usr/local/lib/python3.11/dist-packages (from streamlit) (24.2)\n",
            "Requirement already satisfied: pandas<3,>=1.4.0 in /usr/local/lib/python3.11/dist-packages (from streamlit) (2.2.2)\n",
            "Requirement already satisfied: pillow<12,>=7.1.0 in /usr/local/lib/python3.11/dist-packages (from streamlit) (11.2.1)\n",
            "Requirement already satisfied: protobuf<6,>=3.20 in /usr/local/lib/python3.11/dist-packages (from streamlit) (5.29.4)\n",
            "Requirement already satisfied: pyarrow>=7.0 in /usr/local/lib/python3.11/dist-packages (from streamlit) (18.1.0)\n",
            "Requirement already satisfied: requests<3,>=2.27 in /usr/local/lib/python3.11/dist-packages (from streamlit) (2.32.3)\n",
            "Requirement already satisfied: tenacity<10,>=8.1.0 in /usr/local/lib/python3.11/dist-packages (from streamlit) (9.1.2)\n",
            "Requirement already satisfied: toml<2,>=0.10.1 in /usr/local/lib/python3.11/dist-packages (from streamlit) (0.10.2)\n",
            "Requirement already satisfied: typing-extensions<5,>=4.4.0 in /usr/local/lib/python3.11/dist-packages (from streamlit) (4.13.2)\n",
            "Requirement already satisfied: watchdog<7,>=2.1.5 in /usr/local/lib/python3.11/dist-packages (from streamlit) (6.0.0)\n",
            "Requirement already satisfied: gitpython!=3.1.19,<4,>=3.0.7 in /usr/local/lib/python3.11/dist-packages (from streamlit) (3.1.44)\n",
            "Requirement already satisfied: pydeck<1,>=0.8.0b4 in /usr/local/lib/python3.11/dist-packages (from streamlit) (0.9.1)\n",
            "Requirement already satisfied: tornado<7,>=6.0.3 in /usr/local/lib/python3.11/dist-packages (from streamlit) (6.4.2)\n",
            "Requirement already satisfied: PyYAML>=5.1 in /usr/local/lib/python3.11/dist-packages (from pyngrok) (6.0.2)\n",
            "Requirement already satisfied: jinja2 in /usr/local/lib/python3.11/dist-packages (from altair<6,>=4.0->streamlit) (3.1.6)\n",
            "Requirement already satisfied: jsonschema>=3.0 in /usr/local/lib/python3.11/dist-packages (from altair<6,>=4.0->streamlit) (4.23.0)\n",
            "Requirement already satisfied: narwhals>=1.14.2 in /usr/local/lib/python3.11/dist-packages (from altair<6,>=4.0->streamlit) (1.36.0)\n",
            "Requirement already satisfied: gitdb<5,>=4.0.1 in /usr/local/lib/python3.11/dist-packages (from gitpython!=3.1.19,<4,>=3.0.7->streamlit) (4.0.12)\n",
            "Requirement already satisfied: python-dateutil>=2.8.2 in /usr/local/lib/python3.11/dist-packages (from pandas<3,>=1.4.0->streamlit) (2.9.0.post0)\n",
            "Requirement already satisfied: pytz>=2020.1 in /usr/local/lib/python3.11/dist-packages (from pandas<3,>=1.4.0->streamlit) (2025.2)\n",
            "Requirement already satisfied: tzdata>=2022.7 in /usr/local/lib/python3.11/dist-packages (from pandas<3,>=1.4.0->streamlit) (2025.2)\n",
            "Requirement already satisfied: charset-normalizer<4,>=2 in /usr/local/lib/python3.11/dist-packages (from requests<3,>=2.27->streamlit) (3.4.1)\n",
            "Requirement already satisfied: idna<4,>=2.5 in /usr/local/lib/python3.11/dist-packages (from requests<3,>=2.27->streamlit) (2.10)\n",
            "Requirement already satisfied: urllib3<3,>=1.21.1 in /usr/local/lib/python3.11/dist-packages (from requests<3,>=2.27->streamlit) (2.4.0)\n",
            "Requirement already satisfied: certifi>=2017.4.17 in /usr/local/lib/python3.11/dist-packages (from requests<3,>=2.27->streamlit) (2025.1.31)\n",
            "Requirement already satisfied: smmap<6,>=3.0.1 in /usr/local/lib/python3.11/dist-packages (from gitdb<5,>=4.0.1->gitpython!=3.1.19,<4,>=3.0.7->streamlit) (5.0.2)\n",
            "Requirement already satisfied: MarkupSafe>=2.0 in /usr/local/lib/python3.11/dist-packages (from jinja2->altair<6,>=4.0->streamlit) (3.0.2)\n",
            "Requirement already satisfied: attrs>=22.2.0 in /usr/local/lib/python3.11/dist-packages (from jsonschema>=3.0->altair<6,>=4.0->streamlit) (25.3.0)\n",
            "Requirement already satisfied: jsonschema-specifications>=2023.03.6 in /usr/local/lib/python3.11/dist-packages (from jsonschema>=3.0->altair<6,>=4.0->streamlit) (2025.4.1)\n",
            "Requirement already satisfied: referencing>=0.28.4 in /usr/local/lib/python3.11/dist-packages (from jsonschema>=3.0->altair<6,>=4.0->streamlit) (0.36.2)\n",
            "Requirement already satisfied: rpds-py>=0.7.1 in /usr/local/lib/python3.11/dist-packages (from jsonschema>=3.0->altair<6,>=4.0->streamlit) (0.24.0)\n",
            "Requirement already satisfied: six>=1.5 in /usr/local/lib/python3.11/dist-packages (from python-dateutil>=2.8.2->pandas<3,>=1.4.0->streamlit) (1.17.0)\n",
            "Downloading pyngrok-7.2.5-py3-none-any.whl (23 kB)\n",
            "Installing collected packages: pyngrok\n",
            "Successfully installed pyngrok-7.2.5\n",
            "Requirement already satisfied: streamlit in /usr/local/lib/python3.11/dist-packages (1.44.1)\n",
            "Requirement already satisfied: pyngrok in /usr/local/lib/python3.11/dist-packages (7.2.5)\n",
            "Requirement already satisfied: joblib in /usr/local/lib/python3.11/dist-packages (1.4.2)\n",
            "Requirement already satisfied: altair<6,>=4.0 in /usr/local/lib/python3.11/dist-packages (from streamlit) (5.5.0)\n",
            "Requirement already satisfied: blinker<2,>=1.0.0 in /usr/local/lib/python3.11/dist-packages (from streamlit) (1.9.0)\n",
            "Requirement already satisfied: cachetools<6,>=4.0 in /usr/local/lib/python3.11/dist-packages (from streamlit) (5.5.2)\n",
            "Requirement already satisfied: click<9,>=7.0 in /usr/local/lib/python3.11/dist-packages (from streamlit) (8.1.8)\n",
            "Requirement already satisfied: numpy<3,>=1.23 in /usr/local/lib/python3.11/dist-packages (from streamlit) (2.0.2)\n",
            "Requirement already satisfied: packaging<25,>=20 in /usr/local/lib/python3.11/dist-packages (from streamlit) (24.2)\n",
            "Requirement already satisfied: pandas<3,>=1.4.0 in /usr/local/lib/python3.11/dist-packages (from streamlit) (2.2.2)\n",
            "Requirement already satisfied: pillow<12,>=7.1.0 in /usr/local/lib/python3.11/dist-packages (from streamlit) (11.2.1)\n",
            "Requirement already satisfied: protobuf<6,>=3.20 in /usr/local/lib/python3.11/dist-packages (from streamlit) (5.29.4)\n",
            "Requirement already satisfied: pyarrow>=7.0 in /usr/local/lib/python3.11/dist-packages (from streamlit) (18.1.0)\n",
            "Requirement already satisfied: requests<3,>=2.27 in /usr/local/lib/python3.11/dist-packages (from streamlit) (2.32.3)\n",
            "Requirement already satisfied: tenacity<10,>=8.1.0 in /usr/local/lib/python3.11/dist-packages (from streamlit) (9.1.2)\n",
            "Requirement already satisfied: toml<2,>=0.10.1 in /usr/local/lib/python3.11/dist-packages (from streamlit) (0.10.2)\n",
            "Requirement already satisfied: typing-extensions<5,>=4.4.0 in /usr/local/lib/python3.11/dist-packages (from streamlit) (4.13.2)\n",
            "Requirement already satisfied: watchdog<7,>=2.1.5 in /usr/local/lib/python3.11/dist-packages (from streamlit) (6.0.0)\n",
            "Requirement already satisfied: gitpython!=3.1.19,<4,>=3.0.7 in /usr/local/lib/python3.11/dist-packages (from streamlit) (3.1.44)\n",
            "Requirement already satisfied: pydeck<1,>=0.8.0b4 in /usr/local/lib/python3.11/dist-packages (from streamlit) (0.9.1)\n",
            "Requirement already satisfied: tornado<7,>=6.0.3 in /usr/local/lib/python3.11/dist-packages (from streamlit) (6.4.2)\n",
            "Requirement already satisfied: PyYAML>=5.1 in /usr/local/lib/python3.11/dist-packages (from pyngrok) (6.0.2)\n",
            "Requirement already satisfied: jinja2 in /usr/local/lib/python3.11/dist-packages (from altair<6,>=4.0->streamlit) (3.1.6)\n",
            "Requirement already satisfied: jsonschema>=3.0 in /usr/local/lib/python3.11/dist-packages (from altair<6,>=4.0->streamlit) (4.23.0)\n",
            "Requirement already satisfied: narwhals>=1.14.2 in /usr/local/lib/python3.11/dist-packages (from altair<6,>=4.0->streamlit) (1.36.0)\n",
            "Requirement already satisfied: gitdb<5,>=4.0.1 in /usr/local/lib/python3.11/dist-packages (from gitpython!=3.1.19,<4,>=3.0.7->streamlit) (4.0.12)\n",
            "Requirement already satisfied: python-dateutil>=2.8.2 in /usr/local/lib/python3.11/dist-packages (from pandas<3,>=1.4.0->streamlit) (2.9.0.post0)\n",
            "Requirement already satisfied: pytz>=2020.1 in /usr/local/lib/python3.11/dist-packages (from pandas<3,>=1.4.0->streamlit) (2025.2)\n",
            "Requirement already satisfied: tzdata>=2022.7 in /usr/local/lib/python3.11/dist-packages (from pandas<3,>=1.4.0->streamlit) (2025.2)\n",
            "Requirement already satisfied: charset-normalizer<4,>=2 in /usr/local/lib/python3.11/dist-packages (from requests<3,>=2.27->streamlit) (3.4.1)\n",
            "Requirement already satisfied: idna<4,>=2.5 in /usr/local/lib/python3.11/dist-packages (from requests<3,>=2.27->streamlit) (2.10)\n",
            "Requirement already satisfied: urllib3<3,>=1.21.1 in /usr/local/lib/python3.11/dist-packages (from requests<3,>=2.27->streamlit) (2.4.0)\n",
            "Requirement already satisfied: certifi>=2017.4.17 in /usr/local/lib/python3.11/dist-packages (from requests<3,>=2.27->streamlit) (2025.1.31)\n",
            "Requirement already satisfied: smmap<6,>=3.0.1 in /usr/local/lib/python3.11/dist-packages (from gitdb<5,>=4.0.1->gitpython!=3.1.19,<4,>=3.0.7->streamlit) (5.0.2)\n",
            "Requirement already satisfied: MarkupSafe>=2.0 in /usr/local/lib/python3.11/dist-packages (from jinja2->altair<6,>=4.0->streamlit) (3.0.2)\n",
            "Requirement already satisfied: attrs>=22.2.0 in /usr/local/lib/python3.11/dist-packages (from jsonschema>=3.0->altair<6,>=4.0->streamlit) (25.3.0)\n",
            "Requirement already satisfied: jsonschema-specifications>=2023.03.6 in /usr/local/lib/python3.11/dist-packages (from jsonschema>=3.0->altair<6,>=4.0->streamlit) (2025.4.1)\n",
            "Requirement already satisfied: referencing>=0.28.4 in /usr/local/lib/python3.11/dist-packages (from jsonschema>=3.0->altair<6,>=4.0->streamlit) (0.36.2)\n",
            "Requirement already satisfied: rpds-py>=0.7.1 in /usr/local/lib/python3.11/dist-packages (from jsonschema>=3.0->altair<6,>=4.0->streamlit) (0.24.0)\n",
            "Requirement already satisfied: six>=1.5 in /usr/local/lib/python3.11/dist-packages (from python-dateutil>=2.8.2->pandas<3,>=1.4.0->streamlit) (1.17.0)\n"
          ]
        }
      ]
    },
    {
      "cell_type": "code",
      "source": [
        "import joblib\n",
        "joblib.dump(best_rf_model, \"rf_model.pkl\")\n"
      ],
      "metadata": {
        "colab": {
          "base_uri": "https://localhost:8080/"
        },
        "id": "ebYUccccNgJz",
        "outputId": "a29ae121-7ec3-4550-d368-c29babf84a20"
      },
      "execution_count": null,
      "outputs": [
        {
          "output_type": "execute_result",
          "data": {
            "text/plain": [
              "['rf_model.pkl']"
            ]
          },
          "metadata": {},
          "execution_count": 20
        }
      ]
    },
    {
      "cell_type": "code",
      "source": [
        "%%writefile app.py\n",
        "import streamlit as st\n",
        "import numpy as np\n",
        "\n",
        "st.set_page_config(page_title=\"💓 Health Disease Risk Prediction\", layout=\"centered\")\n",
        "st.title(\"💓 Health Risk Prediction assistant Application\")\n",
        "st.markdown(\"Predict Health Risk using Health Metrics.\")\n",
        "\n",
        "# Input fields\n",
        "id = st.number_input(\"ID\", 0, 1000000, 1)\n",
        "age = st.slider(\"Age\", 20, 100, 50)\n",
        "education = st.selectbox(\"Education Level (1 to 4)\", [1, 2, 3, 4])\n",
        "sex = st.selectbox(\"Sex (1 = Male, 0 = Female)\", [1, 0])\n",
        "is_smoking = st.selectbox(\"Currently Smoking? (1 = Yes, 0 = No)\", [1, 0])\n",
        "cigsPerDay = st.number_input(\"Cigarettes per Day\", 0, 100, 10)\n",
        "BPMeds = st.selectbox(\"On BP Medication? (1 = Yes, 0 = No)\", [1, 0])\n",
        "prevalentStroke = st.selectbox(\"Had Stroke Before? (1 = Yes, 0 = No)\", [1, 0])\n",
        "prevalentHyp = st.selectbox(\"Has Hypertension? (1 = Yes, 0 = No)\", [1, 0])\n",
        "diabetes = st.selectbox(\"Has Diabetes? (1 = Yes, 0 = No)\", [1, 0])\n",
        "totChol = st.number_input(\"Total Cholesterol (mg/dL)\", 100, 400, 200)\n",
        "sysBP = st.number_input(\"Systolic Blood Pressure\", 90, 200, 120)\n",
        "diaBP = st.number_input(\"Diastolic Blood Pressure\", 60, 140, 80)\n",
        "BMI = st.number_input(\"Body Mass Index (BMI)\", 10.0, 50.0, 25.0)\n",
        "heartRate = st.number_input(\"Heart Rate (bpm)\", 40, 150, 75)\n",
        "glucose = st.number_input(\"Glucose Level (mg/dL)\", 50, 300, 100)\n",
        "exng = st.selectbox(\"Exercise Induced Angina? (1 = Yes, 0 = No)\", [1, 0])\n",
        "caa = st.number_input(\"Number of Major Vessels Colored by Fluoroscopy (0-3)\", 0, 3, 0)\n",
        "Triglyceride = st.number_input(\"Triglyceride (mg/dL)\", 50, 600, 150)\n",
        "hdl_cholestrol = st.number_input(\"HDL Cholesterol (mg/dL)\", 20, 100, 50)\n",
        "ldl_cholestrol = st.number_input(\"LDL Cholesterol (mg/dL)\", 50, 250, 130)\n",
        "CPK_MB_Percentage = st.number_input(\"CPK-MB Percentage\", 0.0, 100.0, 5.0)\n",
        "\n",
        "if st.button(\"🔍 Predict CHD Risk\"):\n",
        "\n",
        "    # Rule-based Risk Score Calculation\n",
        "    risk_score = 0\n",
        "    risk_score += 1 if age > 50 else 0\n",
        "    risk_score += 2 if is_smoking == 1 else 0\n",
        "    risk_score += 1.5 if totChol > 240 else 0\n",
        "    risk_score += 1.5 if sysBP > 140 else 0\n",
        "    risk_score += 2 if diabetes == 1 else 0\n",
        "    risk_score += 1 if BMI > 30 else 0\n",
        "\n",
        "    st.markdown(f\"**Risk Score:** {risk_score:.2f} (Threshold: 5.5)\")\n",
        "\n",
        "    if risk_score >= 5.5:\n",
        "        st.error(\"🧠 CHD Risk Prediction: ⚠️ Yes - High Risk\")\n",
        "    else:\n",
        "        st.success(\"🧠 CHD Risk Prediction: ✅ No - Low Risk\")\n",
        "\n",
        "# Simple chatbot\n",
        "st.subheader(\"🤖 Chatbot Assistant\")\n",
        "question = st.text_input(\"Ask me anything about this app or heart health:\")\n",
        "\n",
        "if question:\n",
        "    response = \"I'm not sure how to answer that yet.\"\n",
        "    q = question.lower()\n",
        "\n",
        "    if \"accuracy\" in q:\n",
        "        response = \"This is a rule-based risk score system. You can tweak the scoring logic for research.\"\n",
        "    elif \"feature\" in q or \"input\" in q:\n",
        "        response = \"This model uses: Age, Smoking, Total Cholesterol, Systolic BP, BMI, and Diabetes.\"\n",
        "    elif \"how to\" in q:\n",
        "        response = \"Fill out the form above with your health details and click 'Predict' to get the result.\"\n",
        "\n",
        "    st.info(f\"🤖: {response}\")\n"
      ],
      "metadata": {
        "colab": {
          "base_uri": "https://localhost:8080/"
        },
        "id": "K4DPEDAoOawD",
        "outputId": "08e68d05-7c46-4342-ce42-a4ec56d2c611"
      },
      "execution_count": null,
      "outputs": [
        {
          "output_type": "stream",
          "name": "stdout",
          "text": [
            "Overwriting app.py\n"
          ]
        }
      ]
    },
    {
      "cell_type": "code",
      "source": [
        "from pyngrok import ngrok\n",
        "\n",
        "# Paste your authtoken here\n",
        "ngrok.set_auth_token(\"2vnWhsksXX9iTvvquZPSkB7GCQN_4o5pv3Y97U1G3zbH5fVtZ\")\n"
      ],
      "metadata": {
        "id": "iySuahuFO60J"
      },
      "execution_count": null,
      "outputs": []
    },
    {
      "cell_type": "code",
      "source": [
        "import os\n",
        "# Assuming your Streamlit app is in app.py\n",
        "os.system('streamlit run app.py &')\n"
      ],
      "metadata": {
        "colab": {
          "base_uri": "https://localhost:8080/"
        },
        "id": "SvL-nxG-Oemt",
        "outputId": "83462e2c-5a0d-4a03-f7dc-3705eee6f54e"
      },
      "execution_count": null,
      "outputs": [
        {
          "output_type": "execute_result",
          "data": {
            "text/plain": [
              "0"
            ]
          },
          "metadata": {},
          "execution_count": 30
        }
      ]
    },
    {
      "cell_type": "code",
      "source": [
        "# Run the Streamlit app\n",
        "!streamlit run app.py &\n",
        "\n",
        "# Expose Streamlit app using ngrok\n",
        "from pyngrok import ngrok\n",
        "\n"
      ],
      "metadata": {
        "colab": {
          "base_uri": "https://localhost:8080/"
        },
        "id": "9jxyLWt-PSUQ",
        "outputId": "ab103018-a604-4bb7-ac0f-61bea092583a"
      },
      "execution_count": null,
      "outputs": [
        {
          "output_type": "stream",
          "name": "stdout",
          "text": [
            "\n",
            "Collecting usage statistics. To deactivate, set browser.gatherUsageStats to false.\n",
            "\u001b[0m\n",
            "\u001b[0m\n",
            "\u001b[34m\u001b[1m  You can now view your Streamlit app in your browser.\u001b[0m\n",
            "\u001b[0m\n",
            "\u001b[34m  Local URL: \u001b[0m\u001b[1mhttp://localhost:8503\u001b[0m\n",
            "\u001b[34m  Network URL: \u001b[0m\u001b[1mhttp://172.28.0.12:8503\u001b[0m\n",
            "\u001b[34m  External URL: \u001b[0m\u001b[1mhttp://35.245.126.130:8503\u001b[0m\n",
            "\u001b[0m\n",
            "\u001b[34m  Stopping...\u001b[0m\n"
          ]
        }
      ]
    },
    {
      "cell_type": "code",
      "source": [
        "!pkill -f ngrok\n",
        "\n"
      ],
      "metadata": {
        "id": "90IWOOq7XQAO"
      },
      "execution_count": null,
      "outputs": []
    },
    {
      "cell_type": "code",
      "source": [
        "!ngrok config add-authtoken 2vnWhsksXX9iTvvquZPSkB7GCQN_4o5pv3Y97U1G3zbH5fVtZ"
      ],
      "metadata": {
        "colab": {
          "base_uri": "https://localhost:8080/"
        },
        "id": "VgPQ4DYbXgM9",
        "outputId": "efd52bc4-989b-418e-8ae3-b9b0092a480f"
      },
      "execution_count": null,
      "outputs": [
        {
          "output_type": "stream",
          "name": "stdout",
          "text": [
            "Authtoken saved to configuration file: /root/.config/ngrok/ngrok.yml\n"
          ]
        }
      ]
    },
    {
      "cell_type": "code",
      "source": [
        "import os\n",
        "import threading\n",
        "from pyngrok import ngrok\n",
        "\n",
        "# Kill any previous ngrok tunnels (just in case)\n",
        "ngrok.kill()\n",
        "\n",
        "# Start Streamlit app in a separate thread\n",
        "def run_streamlit():\n",
        "    os.system(\"streamlit run app.py\")\n",
        "\n",
        "thread = threading.Thread(target=run_streamlit)\n",
        "thread.start()\n",
        "\n",
        "# Connect ngrok tunnel to the Streamlit app\n",
        "public_url = ngrok.connect(8501)\n",
        "print(f\"Streamlit app is live at: {public_url}\")\n"
      ],
      "metadata": {
        "colab": {
          "base_uri": "https://localhost:8080/"
        },
        "id": "1ngAafcyW34I",
        "outputId": "86159c96-8b0f-4298-f179-d624692b91f2"
      },
      "execution_count": null,
      "outputs": [
        {
          "output_type": "stream",
          "name": "stdout",
          "text": [
            "Streamlit app is live at: NgrokTunnel: \"https://6b29-35-245-126-130.ngrok-free.app\" -> \"http://localhost:8501\"\n"
          ]
        }
      ]
    }
  ]
}